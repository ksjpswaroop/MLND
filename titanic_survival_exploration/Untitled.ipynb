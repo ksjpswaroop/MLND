{
 "cells": [
  {
   "cell_type": "code",
   "execution_count": 3,
   "metadata": {
    "collapsed": false
   },
   "outputs": [
    {
     "name": "stdout",
     "output_type": "stream",
     "text": [
      "Downloading/unpacking jupyter\n",
      "  Downloading jupyter-1.0.0-py2.py3-none-any.whl\n",
      "Downloading/unpacking ipywidgets (from jupyter)\n",
      "Downloading/unpacking notebook (from jupyter)\n",
      "Downloading/unpacking jupyter-console (from jupyter)\n",
      "  Downloading jupyter_console-5.0.0-py2.py3-none-any.whl\n",
      "Downloading/unpacking nbconvert (from jupyter)\n",
      "Downloading/unpacking qtconsole (from jupyter)\n",
      "Downloading/unpacking ipykernel (from jupyter)\n",
      "Downloading/unpacking traitlets>=4.2.1 (from ipywidgets->jupyter)\n",
      "Downloading/unpacking ipython>=4.0.0 (from ipywidgets->jupyter)\n",
      "Downloading/unpacking widgetsnbextension>=1.2.6 (from ipywidgets->jupyter)\n",
      "Downloading/unpacking jupyter-client (from notebook->jupyter)\n",
      "Downloading/unpacking tornado>=4 (from notebook->jupyter)\n",
      "  Running setup.py (path:c:\\users\\priya\\appdata\\local\\temp\\pip_build_Priya\\tornado\\setup.py) egg_info for package tornado\n",
      "    \n",
      "    no previously-included directories found matching 'docs\\build'\n",
      "    warning: no files found matching 'tornado\\test\\README'\n",
      "Downloading/unpacking ipython-genutils (from notebook->jupyter)\n",
      "  Downloading ipython_genutils-0.1.0-py2.py3-none-any.whl\n",
      "Requirement already satisfied (use --upgrade to upgrade): jinja2 in c:\\python27\\lib\\site-packages (from notebook->jupyter)\n",
      "Downloading/unpacking jupyter-core (from notebook->jupyter)\n",
      "Downloading/unpacking nbformat (from notebook->jupyter)\n",
      "Downloading/unpacking prompt-toolkit>=1.0.0,<2.0.0 (from jupyter-console->jupyter)\n",
      "Downloading/unpacking pygments (from jupyter-console->jupyter)\n",
      "Downloading/unpacking mistune!=0.6 (from nbconvert->jupyter)\n",
      "  Downloading mistune-0.7.3-py2.py3-none-any.whl\n",
      "Downloading/unpacking entrypoints (from nbconvert->jupyter)\n",
      "  Downloading entrypoints-0.2.2-py2.py3-none-any.whl\n",
      "Downloading/unpacking enum34 (from traitlets>=4.2.1->ipywidgets->jupyter)\n",
      "  Downloading enum34-1.1.6-py2-none-any.whl\n",
      "Requirement already satisfied (use --upgrade to upgrade): six in c:\\python27\\lib\\site-packages (from traitlets>=4.2.1->ipywidgets->jupyter)\n",
      "Downloading/unpacking decorator (from traitlets>=4.2.1->ipywidgets->jupyter)\n",
      "  Downloading decorator-4.0.10-py2.py3-none-any.whl\n",
      "Downloading/unpacking pickleshare (from ipython>=4.0.0->ipywidgets->jupyter)\n",
      "  Downloading pickleshare-0.7.4-py2.py3-none-any.whl\n",
      "Downloading/unpacking win-unicode-console>=0.5 (from ipython>=4.0.0->ipywidgets->jupyter)\n",
      "  Downloading win_unicode_console-0.5.zip\n",
      "  Running setup.py (path:c:\\users\\priya\\appdata\\local\\temp\\pip_build_Priya\\win-unicode-console\\setup.py) egg_info for package win-unicode-console\n",
      "    \n",
      "Downloading/unpacking pathlib2 (from ipython>=4.0.0->ipywidgets->jupyter)\n",
      "  Downloading pathlib2-2.1.0-py2.py3-none-any.whl\n",
      "Downloading/unpacking setuptools>=18.5 (from ipython>=4.0.0->ipywidgets->jupyter)\n",
      "Downloading/unpacking simplegeneric>0.8 (from ipython>=4.0.0->ipywidgets->jupyter)\n",
      "  Downloading simplegeneric-0.8.1.zip\n",
      "  Running setup.py (path:c:\\users\\priya\\appdata\\local\\temp\\pip_build_Priya\\simplegeneric\\setup.py) egg_info for package simplegeneric\n",
      "    \n",
      "Downloading/unpacking colorama (from ipython>=4.0.0->ipywidgets->jupyter)\n",
      "  Downloading colorama-0.3.7-py2.py3-none-any.whl\n",
      "Downloading/unpacking backports.shutil-get-terminal-size (from ipython>=4.0.0->ipywidgets->jupyter)\n",
      "  Downloading backports.shutil_get_terminal_size-1.0.0-py2.py3-none-any.whl\n",
      "Downloading/unpacking pyzmq>=13 (from jupyter-client->notebook->jupyter)\n",
      "Cleaning up...\n",
      "Exception:\n",
      "Traceback (most recent call last):\n",
      "  File \"C:\\Python27\\lib\\site-packages\\pip\\basecommand.py\", line 122, in main\n",
      "    status = self.run(options, args)\n",
      "  File \"C:\\Python27\\lib\\site-packages\\pip\\commands\\install.py\", line 278, in run\n",
      "    requirement_set.prepare_files(finder, force_root_egg_info=self.bundle, bundle=self.bundle)\n",
      "  File \"C:\\Python27\\lib\\site-packages\\pip\\req.py\", line 1197, in prepare_files\n",
      "    do_download,\n",
      "  File \"C:\\Python27\\lib\\site-packages\\pip\\req.py\", line 1375, in unpack_url\n",
      "    self.session,\n",
      "  File \"C:\\Python27\\lib\\site-packages\\pip\\download.py\", line 572, in unpack_http_url\n",
      "    download_hash = _download_url(resp, link, temp_location)\n",
      "  File \"C:\\Python27\\lib\\site-packages\\pip\\download.py\", line 433, in _download_url\n",
      "    for chunk in resp_read(4096):\n",
      "  File \"C:\\Python27\\lib\\site-packages\\pip\\download.py\", line 421, in resp_read\n",
      "    chunk_size, decode_content=False):\n",
      "  File \"C:\\Python27\\lib\\site-packages\\pip\\_vendor\\requests\\packages\\urllib3\\response.py\", line 240, in stream\n",
      "    data = self.read(amt=amt, decode_content=decode_content)\n",
      "  File \"C:\\Python27\\lib\\site-packages\\pip\\_vendor\\requests\\packages\\urllib3\\response.py\", line 187, in read\n",
      "    data = self._fp.read(amt)\n",
      "  File \"C:\\Python27\\lib\\httplib.py\", line 573, in read\n",
      "    s = self.fp.read(amt)\n",
      "  File \"C:\\Python27\\lib\\socket.py\", line 380, in read\n",
      "    data = self._sock.recv(left)\n",
      "  File \"C:\\Python27\\lib\\ssl.py\", line 714, in recv\n",
      "    return self.read(buflen)\n",
      "  File \"C:\\Python27\\lib\\ssl.py\", line 608, in read\n",
      "    v = self._sslobj.read(len or 1024)\n",
      "SSLError: ('The read operation timed out',)\n",
      "\n",
      "Storing debug log for failure in C:\\Users\\Priya\\pip\\pip.log\n"
     ]
    }
   ],
   "source": [
    "!pip install jupyter"
   ]
  },
  {
   "cell_type": "code",
   "execution_count": null,
   "metadata": {
    "collapsed": true
   },
   "outputs": [],
   "source": [
    "!pip install ipyparallel"
   ]
  }
 ],
 "metadata": {
  "kernelspec": {
   "display_name": "Python 3",
   "language": "python",
   "name": "python3"
  },
  "language_info": {
   "codemirror_mode": {
    "name": "ipython",
    "version": 3
   },
   "file_extension": ".py",
   "mimetype": "text/x-python",
   "name": "python",
   "nbconvert_exporter": "python",
   "pygments_lexer": "ipython3",
   "version": "3.5.1"
  }
 },
 "nbformat": 4,
 "nbformat_minor": 0
}
